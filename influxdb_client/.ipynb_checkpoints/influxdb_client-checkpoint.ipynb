{
 "cells": [
  {
   "cell_type": "code",
   "execution_count": 1,
   "metadata": {},
   "outputs": [],
   "source": [
    "from influxdb import InfluxDBClient, DataFrameClient\n",
    "from influxdb import exceptions\n",
    "import pandas as pd"
   ]
  },
  {
   "cell_type": "code",
   "execution_count": 3,
   "metadata": {},
   "outputs": [
    {
     "data": {
      "text/plain": [
       "'1.8.0'"
      ]
     },
     "execution_count": 3,
     "metadata": {},
     "output_type": "execute_result"
    }
   ],
   "source": [
    "client = InfluxDBClient('172.18.0.2', 8086)\n",
    "client.ping()"
   ]
  },
  {
   "cell_type": "code",
   "execution_count": 4,
   "metadata": {},
   "outputs": [],
   "source": [
    "client.switch_database('testdb')"
   ]
  },
  {
   "cell_type": "code",
   "execution_count": 5,
   "metadata": {},
   "outputs": [
    {
     "data": {
      "text/plain": [
       "[{'name': 'cpu_load_short'}, {'name': 'mxx'}]"
      ]
     },
     "execution_count": 5,
     "metadata": {},
     "output_type": "execute_result"
    }
   ],
   "source": [
    "client.get_list_measurements()"
   ]
  },
  {
   "cell_type": "code",
   "execution_count": 6,
   "metadata": {},
   "outputs": [
    {
     "data": {
      "text/plain": [
       "['mxx,measurement_type=day,source=yahoo']"
      ]
     },
     "execution_count": 6,
     "metadata": {},
     "output_type": "execute_result"
    }
   ],
   "source": [
    "client.get_list_series(measurement='mxx')"
   ]
  },
  {
   "cell_type": "code",
   "execution_count": 7,
   "metadata": {},
   "outputs": [],
   "source": [
    "results = client.query('Select time,value from mxx')"
   ]
  },
  {
   "cell_type": "code",
   "execution_count": 8,
   "metadata": {},
   "outputs": [],
   "source": [
    "df = pd.DataFrame([x for x in results][0])"
   ]
  },
  {
   "cell_type": "code",
   "execution_count": 38,
   "metadata": {},
   "outputs": [],
   "source": [
    "df['time']= pd.to_datetime(df.time)"
   ]
  },
  {
   "cell_type": "code",
   "execution_count": 41,
   "metadata": {},
   "outputs": [
    {
     "data": {
      "text/plain": [
       "<matplotlib.axes._subplots.AxesSubplot at 0x7f7ced605450>"
      ]
     },
     "execution_count": 41,
     "metadata": {},
     "output_type": "execute_result"
    },
    {
     "data": {
      "image/png": "[encoded data removed]",
      "text/plain": [
       "<Figure size 432x288 with 1 Axes>"
      ]
     },
     "metadata": {
      "needs_background": "light"
     },
     "output_type": "display_data"
    }
   ],
   "source": [
    "df.set_index('time').plot()"
   ]
  },
  {
   "cell_type": "code",
   "execution_count": 43,
   "metadata": {},
   "outputs": [
    {
     "name": "stdout",
     "output_type": "stream",
     "text": [
      "Writing influxdb_client.py\n"
     ]
    }
   ],
   "source": [
    "%%writefile influxdb_client.py\n",
    "from influxdb import InfluxDBClient, DataFrameClient\n",
    "from influxdb import exceptions\n",
    "import pandas as pd\n",
    "import config\n",
    "\n",
    "def connect_database(db_name='testdb'):\n",
    "    try:\n",
    "        client = InfluxDBClient( host =config.influxdb_config.get('influxdb_host'),\n",
    "                                port = config.influxdb_config.get('influxdb_port'),\n",
    "                                database=config.influxdb_config.get('influxdb_db')\n",
    "                               )\n",
    "        client.ping()\n",
    "    except Exception as e:\n",
    "        print('error connecting to database: {}'.format(e))\n",
    "        raise\n",
    "    return client\n",
    "\n",
    "def query_to_dataframe(client ,query = 'Select time,value from mxx'):\n",
    "    try:\n",
    "        results = client.query(query)\n",
    "        df = pd.DataFrame([x for x in results][0])\n",
    "        df['time']= pd.to_datetime(df.time)\n",
    "    except Exception as e:\n",
    "        print('error querying to database: {}'.format(e))\n",
    "        raise\n",
    "    return df"
   ]
  },
  {
   "cell_type": "code",
   "execution_count": 40,
   "metadata": {},
   "outputs": [],
   "source": [
    "client = connect_database()"
   ]
  },
  {
   "cell_type": "code",
   "execution_count": 41,
   "metadata": {},
   "outputs": [],
   "source": [
    "df= query_to_dataframe(client)"
   ]
  },
  {
   "cell_type": "code",
   "execution_count": 44,
   "metadata": {},
   "outputs": [
    {
     "data": {
      "text/html": [
       "<div>\n",
       "<style scoped>\n",
       "    .dataframe tbody tr th:only-of-type {\n",
       "        vertical-align: middle;\n",
       "    }\n",
       "\n",
       "    .dataframe tbody tr th {\n",
       "        vertical-align: top;\n",
       "    }\n",
       "\n",
       "    .dataframe thead th {\n",
       "        text-align: right;\n",
       "    }\n",
       "</style>\n",
       "<table border=\"1\" class=\"dataframe\">\n",
       "  <thead>\n",
       "    <tr style=\"text-align: right;\">\n",
       "      <th></th>\n",
       "      <th>time</th>\n",
       "      <th>value</th>\n",
       "    </tr>\n",
       "  </thead>\n",
       "  <tbody>\n",
       "    <tr>\n",
       "      <th>0</th>\n",
       "      <td>2020-07-17 18:00:13.389995+00:00</td>\n",
       "      <td>36327.839844</td>\n",
       "    </tr>\n",
       "    <tr>\n",
       "      <th>1</th>\n",
       "      <td>2020-07-17 18:35:43.009230+00:00</td>\n",
       "      <td>36327.839844</td>\n",
       "    </tr>\n",
       "    <tr>\n",
       "      <th>2</th>\n",
       "      <td>2020-07-17 23:40:32.066297+00:00</td>\n",
       "      <td>36327.839844</td>\n",
       "    </tr>\n",
       "    <tr>\n",
       "      <th>3</th>\n",
       "      <td>2020-07-17 23:52:27.720545+00:00</td>\n",
       "      <td>36327.839844</td>\n",
       "    </tr>\n",
       "    <tr>\n",
       "      <th>4</th>\n",
       "      <td>2020-07-17 23:52:29.563945+00:00</td>\n",
       "      <td>36327.839844</td>\n",
       "    </tr>\n",
       "    <tr>\n",
       "      <th>...</th>\n",
       "      <td>...</td>\n",
       "      <td>...</td>\n",
       "    </tr>\n",
       "    <tr>\n",
       "      <th>562</th>\n",
       "      <td>2020-07-18 22:52:21.071922+00:00</td>\n",
       "      <td>36327.839844</td>\n",
       "    </tr>\n",
       "    <tr>\n",
       "      <th>563</th>\n",
       "      <td>2020-07-18 22:52:23.031373+00:00</td>\n",
       "      <td>36327.839844</td>\n",
       "    </tr>\n",
       "    <tr>\n",
       "      <th>564</th>\n",
       "      <td>2020-07-18 22:52:24.797042+00:00</td>\n",
       "      <td>36327.839844</td>\n",
       "    </tr>\n",
       "    <tr>\n",
       "      <th>565</th>\n",
       "      <td>2020-07-18 22:52:26.662244+00:00</td>\n",
       "      <td>36327.839844</td>\n",
       "    </tr>\n",
       "    <tr>\n",
       "      <th>566</th>\n",
       "      <td>2020-07-18 22:52:28.548728+00:00</td>\n",
       "      <td>36327.839844</td>\n",
       "    </tr>\n",
       "  </tbody>\n",
       "</table>\n",
       "<p>567 rows × 2 columns</p>\n",
       "</div>"
      ],
      "text/plain": [
       "                                time         value\n",
       "0   2020-07-17 18:00:13.389995+00:00  36327.839844\n",
       "1   2020-07-17 18:35:43.009230+00:00  36327.839844\n",
       "2   2020-07-17 23:40:32.066297+00:00  36327.839844\n",
       "3   2020-07-17 23:52:27.720545+00:00  36327.839844\n",
       "4   2020-07-17 23:52:29.563945+00:00  36327.839844\n",
       "..                               ...           ...\n",
       "562 2020-07-18 22:52:21.071922+00:00  36327.839844\n",
       "563 2020-07-18 22:52:23.031373+00:00  36327.839844\n",
       "564 2020-07-18 22:52:24.797042+00:00  36327.839844\n",
       "565 2020-07-18 22:52:26.662244+00:00  36327.839844\n",
       "566 2020-07-18 22:52:28.548728+00:00  36327.839844\n",
       "\n",
       "[567 rows x 2 columns]"
      ]
     },
     "execution_count": 44,
     "metadata": {},
     "output_type": "execute_result"
    }
   ],
   "source": [
    "df"
   ]
  }
 ],
 "metadata": {
  "kernelspec": {
   "display_name": "Python 3",
   "language": "python",
   "name": "python3"
  },
  "language_info": {
   "codemirror_mode": {
    "name": "ipython",
    "version": 3
   },
   "file_extension": ".py",
   "mimetype": "text/x-python",
   "name": "python",
   "nbconvert_exporter": "python",
   "pygments_lexer": "ipython3",
   "version": "3.7.6"
  }
 },
 "nbformat": 4,
 "nbformat_minor": 4
}
